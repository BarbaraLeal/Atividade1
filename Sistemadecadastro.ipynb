{
  "nbformat": 4,
  "nbformat_minor": 0,
  "metadata": {
    "colab": {
      "name": "Sistemadecadastro.ipynb",
      "provenance": [],
      "authorship_tag": "ABX9TyPyCncSnN4xnzEAmWTEkLJ/",
      "include_colab_link": true
    },
    "kernelspec": {
      "name": "python3",
      "display_name": "Python 3"
    }
  },
  "cells": [
    {
      "cell_type": "markdown",
      "metadata": {
        "id": "view-in-github",
        "colab_type": "text"
      },
      "source": [
        "<a href=\"https://colab.research.google.com/github/BarbaraLeal/Atividade1/blob/master/Sistemadecadastro.ipynb\" target=\"_parent\"><img src=\"https://colab.research.google.com/assets/colab-badge.svg\" alt=\"Open In Colab\"/></a>"
      ]
    },
    {
      "cell_type": "code",
      "metadata": {
        "id": "SSwEnvb1npNj",
        "colab_type": "code",
        "colab": {
          "base_uri": "https://localhost:8080/",
          "height": 194
        },
        "outputId": "80421095-9ce1-4941-e1d7-ec10f651f549"
      },
      "source": [
        "#Deixa manipular os arquivos db\n",
        "import sqlite3\n",
        "\n",
        "#Abrir arquivo db\n",
        "conexao = sqlite3.connect('TABELA BARBARA.db')\n",
        "\n",
        "#Fazer consulta no banco\n",
        "cursor = conexao.cursor()\n",
        "cursor.execute(\"SELECT * FROM ITEM\")\n",
        "\n",
        "#Navega por todos os resultados\n",
        "for linha in cursor.fetchall():\n",
        "  print(linha)\n",
        "#Depois de executar tudo\n",
        "conexao.close()\n",
        "\n"
      ],
      "execution_count": null,
      "outputs": [
        {
          "output_type": "stream",
          "text": [
            "('Leite', '3,50', 120, '01')\n",
            "('Arroz', '9,50', 100, '02')\n",
            "('Feijão', '6,50', 100, '03')\n",
            "('Açucar', '4,50', 80, '04')\n",
            "('Sal', '2,80', 130, '05')\n",
            "('Toddy', '8,80', 30, '06')\n",
            "('Bolacha', '1,80', 230, '07')\n",
            "('Torrada', '3,20', 200, '08')\n",
            "('Banana', '1,20', 500, '09')\n",
            "('Laranja', '0,80', 600, '10')\n"
          ],
          "name": "stdout"
        }
      ]
    },
    {
      "cell_type": "code",
      "metadata": {
        "id": "pDVLvsHnumHE",
        "colab_type": "code",
        "colab": {}
      },
      "source": [
        "import xlsxwriter\n",
        "\n",
        "#Cria o arquivo do excel\n",
        "workbook = xlsxwriter.Workbook('Planilha-cadastro.xlsx')\n",
        "#Cria uma planilha dentro do arquivo\n",
        "worksheet = workbook.add_worksheet()\n",
        "\n",
        "#Escreve algo na planilha\n",
        "#Linha,coluna\n",
        "worksheet.write(0,0, \"Olá Mundo\")\n",
        "worksheet.write(0,1, \"Números\")\n",
        "worksheet.write(1,1, 1)\n",
        "worksheet.write(2,1, 2)\n",
        "worksheet.write(3,1, 3)\n",
        "\n",
        "#Fechar planilha\n",
        "workbook.close()"
      ],
      "execution_count": null,
      "outputs": []
    },
    {
      "cell_type": "code",
      "metadata": {
        "id": "2eUlm51jvMpp",
        "colab_type": "code",
        "colab": {
          "base_uri": "https://localhost:8080/",
          "height": 125
        },
        "outputId": "9486f1ae-4cf7-43a9-8020-5b62f9e8faf7"
      },
      "source": [
        "!pip install XlsxWriter"
      ],
      "execution_count": null,
      "outputs": [
        {
          "output_type": "stream",
          "text": [
            "Collecting XlsxWriter\n",
            "\u001b[?25l  Downloading https://files.pythonhosted.org/packages/c8/a2/e5f28b67b7d883c9a6585c0ef32b4bb002bff0292b3008f3d6d3fc7eee59/XlsxWriter-1.2.9-py2.py3-none-any.whl (141kB)\n",
            "\r\u001b[K     |██▎                             | 10kB 18.2MB/s eta 0:00:01\r\u001b[K     |████▋                           | 20kB 6.4MB/s eta 0:00:01\r\u001b[K     |███████                         | 30kB 4.8MB/s eta 0:00:01\r\u001b[K     |█████████▎                      | 40kB 4.5MB/s eta 0:00:01\r\u001b[K     |███████████▋                    | 51kB 4.2MB/s eta 0:00:01\r\u001b[K     |█████████████▉                  | 61kB 4.1MB/s eta 0:00:01\r\u001b[K     |████████████████▏               | 71kB 4.3MB/s eta 0:00:01\r\u001b[K     |██████████████████▌             | 81kB 4.4MB/s eta 0:00:01\r\u001b[K     |████████████████████▉           | 92kB 4.4MB/s eta 0:00:01\r\u001b[K     |███████████████████████▏        | 102kB 4.5MB/s eta 0:00:01\r\u001b[K     |█████████████████████████▌      | 112kB 4.5MB/s eta 0:00:01\r\u001b[K     |███████████████████████████▊    | 122kB 4.5MB/s eta 0:00:01\r\u001b[K     |██████████████████████████████  | 133kB 4.5MB/s eta 0:00:01\r\u001b[K     |████████████████████████████████| 143kB 4.5MB/s \n",
            "\u001b[?25hInstalling collected packages: XlsxWriter\n",
            "Successfully installed XlsxWriter-1.2.9\n"
          ],
          "name": "stdout"
        }
      ]
    },
    {
      "cell_type": "code",
      "metadata": {
        "id": "AVPYKCgd3y-2",
        "colab_type": "code",
        "colab": {}
      },
      "source": [
        "#Deixa manipular os arquivos db\n",
        "import sqlite3\n",
        "import xlsxwriter\n",
        "\n",
        "#Abrir arquivo db\n",
        "conexao = sqlite3.connect('TABELA BARBARA.db')\n",
        "\n",
        "#Cria o arquivo do excel\n",
        "workbook = xlsxwriter.Workbook('Sistema-cadastro.xlsx')\n",
        "#Cria uma planilha dentro do arquivo\n",
        "worksheet = workbook.add_worksheet()\n",
        "\n",
        "#Fazer consulta no banco\n",
        "cursor = conexao.cursor()\n",
        "cursor.execute(\"SELECT * FROM ITEM;\")\n",
        "\n",
        "#Grava o nome das colunas na planilha\n",
        "coluna_atual = 0\n",
        "for coluna in cursor.description:\n",
        "  worksheet.write(0, coluna_atual, coluna[0])\n",
        "  coluna_atual += 1\n",
        "#Navega por todos os resultados\n",
        "linha_atual = 1\n",
        "coluna_atual = 0\n",
        "for linha in cursor.fetchall():\n",
        "  coluna_atual = 0\n",
        "  for item in linha:\n",
        "    worksheet.write(linha_atual, coluna_atual, item)\n",
        "    coluna_atual +=1\n",
        "  linha_atual +=1\n",
        "\n",
        "#Depois de executar tudo\n",
        "conexao.close()\n",
        "workbook.close()\n"
      ],
      "execution_count": 21,
      "outputs": []
    }
  ]
}