{
  "nbformat": 4,
  "nbformat_minor": 0,
  "metadata": {
    "colab": {
      "name": "Atividade Manufatura.ipynb",
      "provenance": [],
      "collapsed_sections": [],
      "authorship_tag": "ABX9TyMj5kkmpzUuh3GEkM92XXk+",
      "include_colab_link": true
    },
    "kernelspec": {
      "name": "python3",
      "display_name": "Python 3"
    }
  },
  "cells": [
    {
      "cell_type": "markdown",
      "metadata": {
        "id": "view-in-github",
        "colab_type": "text"
      },
      "source": [
        "<a href=\"https://colab.research.google.com/github/BarbaraLeal/Atividade1/blob/master/Atividade_Manufatura.ipynb\" target=\"_parent\"><img src=\"https://colab.research.google.com/assets/colab-badge.svg\" alt=\"Open In Colab\"/></a>"
      ]
    },
    {
      "cell_type": "code",
      "metadata": {
        "id": "Kf5gBkXfJWIr",
        "colab_type": "code",
        "colab": {}
      },
      "source": [
        "#Deixa manipular os arquivos db\n",
        "import sqlite3\n",
        "import xlsxwriter\n",
        "\n",
        "#Abrir arquivo db\n",
        "conexao = sqlite3.connect('TABELA BARBARA.db')\n",
        "\n",
        "#Cria o arquivo do excel\n",
        "workbook = xlsxwriter.Workbook('Sistema-cadastro.xlsx')\n",
        "#Cria uma planilha dentro do arquivo\n",
        "worksheet = workbook.add_worksheet()\n",
        "\n",
        "#Fazer consulta no banco\n",
        "cursor = conexao.cursor()\n",
        "cursor.execute(\"SELECT * FROM ITEM;\")\n",
        "\n",
        "#Grava o nome das colunas na planilha\n",
        "coluna_atual = 0\n",
        "for coluna in cursor.description:\n",
        "  worksheet.write(0, coluna_atual, coluna[0])\n",
        "  coluna_atual += 1\n",
        "#Navega por todos os resultados\n",
        "linha_atual = 1\n",
        "coluna_atual = 0\n",
        "for linha in cursor.fetchall():\n",
        "  coluna_atual = 0\n",
        "  for item in linha:\n",
        "    worksheet.write(linha_atual, coluna_atual, item)\n",
        "    coluna_atual +=1\n",
        "  linha_atual +=1\n",
        "\n",
        "#Depois de executar tudo\n",
        "conexao.close()\n",
        "workbook.close()"
      ],
      "execution_count": null,
      "outputs": []
    },
    {
      "cell_type": "code",
      "metadata": {
        "id": "xVh6rmUBBc7z",
        "colab_type": "code",
        "colab": {
          "base_uri": "https://localhost:8080/",
          "height": 125
        },
        "outputId": "5a0c92a5-81a8-4499-ce2c-208e8e5958f6"
      },
      "source": [
        "!pip install XlsxWriter"
      ],
      "execution_count": null,
      "outputs": [
        {
          "output_type": "stream",
          "text": [
            "Collecting XlsxWriter\n",
            "\u001b[?25l  Downloading https://files.pythonhosted.org/packages/c8/a2/e5f28b67b7d883c9a6585c0ef32b4bb002bff0292b3008f3d6d3fc7eee59/XlsxWriter-1.2.9-py2.py3-none-any.whl (141kB)\n",
            "\r\u001b[K     |██▎                             | 10kB 20.2MB/s eta 0:00:01\r\u001b[K     |████▋                           | 20kB 5.9MB/s eta 0:00:01\r\u001b[K     |███████                         | 30kB 6.9MB/s eta 0:00:01\r\u001b[K     |█████████▎                      | 40kB 7.4MB/s eta 0:00:01\r\u001b[K     |███████████▋                    | 51kB 6.5MB/s eta 0:00:01\r\u001b[K     |█████████████▉                  | 61kB 7.4MB/s eta 0:00:01\r\u001b[K     |████████████████▏               | 71kB 7.7MB/s eta 0:00:01\r\u001b[K     |██████████████████▌             | 81kB 7.8MB/s eta 0:00:01\r\u001b[K     |████████████████████▉           | 92kB 7.3MB/s eta 0:00:01\r\u001b[K     |███████████████████████▏        | 102kB 7.7MB/s eta 0:00:01\r\u001b[K     |█████████████████████████▌      | 112kB 7.7MB/s eta 0:00:01\r\u001b[K     |███████████████████████████▊    | 122kB 7.7MB/s eta 0:00:01\r\u001b[K     |██████████████████████████████  | 133kB 7.7MB/s eta 0:00:01\r\u001b[K     |████████████████████████████████| 143kB 7.7MB/s \n",
            "\u001b[?25hInstalling collected packages: XlsxWriter\n",
            "Successfully installed XlsxWriter-1.2.9\n"
          ],
          "name": "stdout"
        }
      ]
    }
  ]
}