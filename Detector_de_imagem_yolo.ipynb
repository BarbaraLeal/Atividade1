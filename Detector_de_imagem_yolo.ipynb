{
  "nbformat": 4,
  "nbformat_minor": 0,
  "metadata": {
    "colab": {
      "name": "Detector de imagem yolo",
      "provenance": [],
      "collapsed_sections": [],
      "include_colab_link": true
    },
    "kernelspec": {
      "name": "python3",
      "display_name": "Python 3"
    }
  },
  "cells": [
    {
      "cell_type": "markdown",
      "metadata": {
        "id": "view-in-github",
        "colab_type": "text"
      },
      "source": [
        "<a href=\"https://colab.research.google.com/github/BarbaraLeal/Atividade1/blob/master/Detector_de_imagem_yolo.ipynb\" target=\"_parent\"><img src=\"https://colab.research.google.com/assets/colab-badge.svg\" alt=\"Open In Colab\"/></a>"
      ]
    },
    {
      "cell_type": "code",
      "metadata": {
        "id": "hGKDEiAhlIEj",
        "colab_type": "code",
        "colab": {}
      },
      "source": [
        "#Biblioteca para manipulação e detecção de imagem (OpenCV)\n",
        "import cv2\n",
        "#Biblioteca numpy para realizar cálculos\n",
        "import numpy as np "
      ],
      "execution_count": null,
      "outputs": []
    },
    {
      "cell_type": "code",
      "metadata": {
        "id": "_5sR-SvRlpGi",
        "colab_type": "code",
        "colab": {}
      },
      "source": [
        "#Biblioteca para manipulação e detecção de imagem (OpenCV)\n",
        "import cv2\n",
        "#Biblioteca numpy para realizar cálculos\n",
        "import numpy as np \n",
        "\n",
        "#Carregar a rede com seus respectivos pesos e configurações\n",
        "net = cv2.dnn.readNet(\"C:/Users/DEBORA/Downloads/yolov3-master/weights/download_yolov3_weights.sh\" , \"C:/Users/DEBORA/Downloads/yolov3-master/cfg/yolov3.cfg\")\n",
        "\n",
        "classes = [] \n",
        "#Obtém as classes dos objetos que o YOLO consegue detectar\n",
        "with open (\"C:/Users/DEBORA/Downloads/yolov3-master/data/coco.names\" , \"r\") as f:\n",
        "    #objeto que armazena as classes disponiveis, ou seja, os nomes dos objetos que o YOLO consegue detectar\n",
        "    classes = [line.strip() for line in f.readlines()]\n",
        "layer_names = net.getLayerNames()\n",
        "#Determinar os nomes das camadas (output) que precisamos do YOLO \n",
        "output_layers = [layer_names[i[0] - 1] for i in net.getUnconnectedOutLayers()]z\n",
        "#Inicializa uma lista de cores para representar cada etiqueta de classe possível\n",
        "colors = np.random.uniform(0,255,size=(len(classes), 3))\n"
      ],
      "execution_count": null,
      "outputs": []
    },
    {
      "cell_type": "code",
      "metadata": {
        "id": "1oCZvOwaxI4J",
        "colab_type": "code",
        "colab": {}
      },
      "source": [
        "#carregar imagem \n",
        "img = cv2.imread(\"C:Usuário/DEBORA/Downloads/yolov3-master/data/samples/bus.jpg\")\n",
        "#Realizar o redimensionamento da imagem\n",
        "img = cv2.resize(img, None, fx = 0.4, fy=0.4)\n",
        "#Largura, altura e canais da imagem\n",
        "height, width, channels = img.shape"
      ],
      "execution_count": null,
      "outputs": []
    },
    {
      "cell_type": "code",
      "metadata": {
        "id": "CnjNHgQuzysV",
        "colab_type": "code",
        "colab": {}
      },
      "source": [
        "# converter a imagem para o formato BLOB. O Blob é usado para extrair.\n",
        "# Recursos da imagem e redimensioná-los.\n",
        "# Tamanho escolhido 416 x 416 é no meio e você recebe um pouco dos dois.\n",
        "# Converter a imagem e passar ela para a rede fazer a detecção dos objetos.\n",
        "# Agrupar a imagem de entrada, de modo que a rede possa fazer a interferência em blocos.\n",
        "\n",
        "\n",
        "blob = cv2.dnn.blobFromImage(img, 0.00392, (416,416), (0,0,0), True, crop-False)"
      ],
      "execution_count": null,
      "outputs": []
    },
    {
      "cell_type": "code",
      "metadata": {
        "id": "_H2xhaVsuA4w",
        "colab_type": "code",
        "colab": {}
      },
      "source": [
        "# net.forward() para realizar as inferências ou predições sobre os grupos de imagens geradas.\n",
        "# O resultado é o array com os valores de saída da rede.\n",
        "# Outs é o array que contém o resultado da detecção\n",
        "\n",
        "outs = net.forward(output_layer)"
      ],
      "execution_count": null,
      "outputs": []
    },
    {
      "cell_type": "code",
      "metadata": {
        "id": "Acbk84VQvaNV",
        "colab_type": "code",
        "colab": {}
      },
      "source": [
        "# Arrays que armazenarão as informações obtidas como resultado da detecção.\n",
        "class_ids = [] #Rótulo de classes do objeto detectado.\n",
        "confidences = [] #Valor de confiança que o YOLO atribuiu ao objeto detectado.\n",
        "boxes = [] #Caixas delimitadoras ao redor do objeto (bound boxes).\n",
        "\n",
        "# Estrutura de repeticao que extrai as informações de detecção.\n",
        "# Ocorre sobre cada uma das saídas da camada\n",
        "for out in outs:\n",
        "  #Loop sobre cada uma das detecções\n",
        "  for detection in out:\n",
        "    #Extrai a identificação da classe e o valor de confiança da detecção\n",
        "    scores = detection[s:]\n",
        "    class_id = np.argmax(scores)\n",
        "    confidence = scores[class_id]\n",
        "\n",
        "    #Determinando o nível de confiança para detecção. Neste caso, maior que 0.5.\n",
        "    #Definimos um liminar de confiança de 0.5, se for maior, consideramos o objeto corretamente detectado,\n",
        "    # caso contrário, ignoramos ele. O limiar vai de 0 a 1. Quanto mais próximo de 1 maior é a precisão da detecção,\n",
        "    #enquanto que quando mais próximos de 0 menor é a precisão, mas também é maior o número de objetos detectados.\n",
        "    if confidence > 0.5:\n",
        "      #Coordenadas da caixa delimitadora do objeto detectado para que possamos exibi-las na imagem original.\n",
        "\n",
        "      #O algorítmo YOLO retorna as coordenadas do centro (x, y) da caixa delimitadora\n",
        "      #bem como a Largura e altura das caixas.\n",
        "      center_x = int(detection[0] * width)\n",
        "      center_y = int(detection[1] * height)\n",
        "      w = int(detection[2] * width)\n",
        "      h = int(detection[3] * height)\n",
        "\n",
        "      #Coordenadas do retângulo\n",
        "      #Usa o centro (x, y) para derivar o topo e canto esquerdo da caixa delimitadora.\n",
        "      x = int(center_x - w/2)\n",
        "      y = int(center_y - h/2)\n",
        "\n",
        "      #Atualiza a lista de coordenadas da caixa delimitadora, confiança da detecção e IDs de classe.\n",
        "      boxes.append([x, y, w, h])\n",
        "      confidences.append(float(confidence))\n",
        "      class_ids.append(class_id)\n",
        "\n",
        "      color = colors[0]\n",
        "\n",
        "      #Retangulo representando as caixas delimitadoras dos objetos detectados\n",
        "      cv2. rectangle(img, (x, y), (x+w, y+h), color, 2)\n",
        "\n",
        "      #Desenha um circulo verde que identifica o centro da imagem do objeto detectado\n",
        "      cv2.circle(img, (center_x, center_y), 10, (0,255,0), 2)\n"
      ],
      "execution_count": null,
      "outputs": []
    },
    {
      "cell_type": "code",
      "metadata": {
        "id": "Z1NDH0TX3gM-",
        "colab_type": "code",
        "colab": {}
      },
      "source": [
        "      indexes = cv2.dnn.MMSBoxes(boxes, confidences, 0.5, 0.4)\n",
        "      font = cv2.FONT_HERSHEY_PLAIN\n",
        "\n",
        "      for i in range(len(boxes)):\n",
        "        if i in indexes:\n",
        "          x, y, w, h = boxes[i]\n",
        "          label = str(classes[class_ids[i]])\n",
        "          confidence = confidences[i]\n",
        "          color = colors[i]\n",
        "          cv2.rectangle(img, (x,y), (x + w, y+h), color, 2)\n",
        "          cv2.putText(img, label + \" \" + str(round(confidence, 2)), (x,y + 30), font, 3, color, 3)\n",
        "        "
      ],
      "execution_count": null,
      "outputs": []
    },
    {
      "cell_type": "code",
      "metadata": {
        "id": "bohiPSGB64g7",
        "colab_type": "code",
        "colab": {}
      },
      "source": [
        "cv2.imshow (\"imagem\" , img)\n",
        "cv2.waitKey(20000)\n",
        "cv2.destroyAllWindows ()\n"
      ],
      "execution_count": null,
      "outputs": []
    }
  ]
}